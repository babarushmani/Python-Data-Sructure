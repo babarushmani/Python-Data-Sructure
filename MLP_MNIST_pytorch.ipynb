{
  "nbformat": 4,
  "nbformat_minor": 0,
  "metadata": {
    "colab": {
      "provenance": [],
      "gpuType": "T4",
      "include_colab_link": true
    },
    "kernelspec": {
      "name": "python3",
      "display_name": "Python 3"
    },
    "language_info": {
      "name": "python"
    },
    "accelerator": "GPU"
  },
  "cells": [
    {
      "cell_type": "markdown",
      "metadata": {
        "id": "view-in-github",
        "colab_type": "text"
      },
      "source": [
        "<a href=\"https://colab.research.google.com/github/babarushmani/Python-Data-Sructure/blob/main/MLP_MNIST_pytorch.ipynb\" target=\"_parent\"><img src=\"https://colab.research.google.com/assets/colab-badge.svg\" alt=\"Open In Colab\"/></a>"
      ]
    },
    {
      "cell_type": "markdown",
      "source": [
        "**Things to cover in upciming sessions** <br>1 - Pytorch Tutorial<br>\n",
        "2 - Optimizer Gradient Descent.<br>\n",
        "3 - CNN and LSTM <br>\n",
        "4 - Well knowned Architectures ResNet, VGG, Alexnet.<br>\n",
        "5 - Customized Dataset and Loader<br>\n",
        "6 - Project.<br>"
      ],
      "metadata": {
        "id": "MuotJ-cf5__h"
      }
    },
    {
      "cell_type": "code",
      "source": [
        "import torch\n",
        "import torch.nn as nn\n",
        "from torch.utils.data import DataLoader\n",
        "from torchvision import datasets, transforms\n",
        "import numpy as np\n",
        "import matplotlib.pyplot as plt"
      ],
      "metadata": {
        "id": "h2S3D7u57NEp"
      },
      "execution_count": null,
      "outputs": []
    },
    {
      "cell_type": "markdown",
      "source": [
        "## Prepare Dataset"
      ],
      "metadata": {
        "id": "_qDNrmBZU_dl"
      }
    },
    {
      "cell_type": "code",
      "source": [
        "Transform = transforms.ToTensor()\n",
        "train_data = datasets.MNIST(root='/data', train=True, download=True, transform=Transform)\n",
        "train_loader = DataLoader(train_data, batch_size=64, shuffle=True)"
      ],
      "metadata": {
        "id": "f4nuEw4-8DNB",
        "colab": {
          "base_uri": "https://localhost:8080/"
        },
        "outputId": "aad4462f-7f88-4858-900f-220fe63ebc3a"
      },
      "execution_count": null,
      "outputs": [
        {
          "output_type": "stream",
          "name": "stdout",
          "text": [
            "Downloading http://yann.lecun.com/exdb/mnist/train-images-idx3-ubyte.gz\n",
            "Failed to download (trying next):\n",
            "HTTP Error 403: Forbidden\n",
            "\n",
            "Downloading https://ossci-datasets.s3.amazonaws.com/mnist/train-images-idx3-ubyte.gz\n",
            "Downloading https://ossci-datasets.s3.amazonaws.com/mnist/train-images-idx3-ubyte.gz to /data/MNIST/raw/train-images-idx3-ubyte.gz\n"
          ]
        },
        {
          "output_type": "stream",
          "name": "stderr",
          "text": [
            "100%|██████████| 9912422/9912422 [00:00<00:00, 15417232.02it/s]\n"
          ]
        },
        {
          "output_type": "stream",
          "name": "stdout",
          "text": [
            "Extracting /data/MNIST/raw/train-images-idx3-ubyte.gz to /data/MNIST/raw\n",
            "\n",
            "Downloading http://yann.lecun.com/exdb/mnist/train-labels-idx1-ubyte.gz\n",
            "Failed to download (trying next):\n",
            "HTTP Error 403: Forbidden\n",
            "\n",
            "Downloading https://ossci-datasets.s3.amazonaws.com/mnist/train-labels-idx1-ubyte.gz\n",
            "Downloading https://ossci-datasets.s3.amazonaws.com/mnist/train-labels-idx1-ubyte.gz to /data/MNIST/raw/train-labels-idx1-ubyte.gz\n"
          ]
        },
        {
          "output_type": "stream",
          "name": "stderr",
          "text": [
            "100%|██████████| 28881/28881 [00:00<00:00, 465616.40it/s]\n"
          ]
        },
        {
          "output_type": "stream",
          "name": "stdout",
          "text": [
            "Extracting /data/MNIST/raw/train-labels-idx1-ubyte.gz to /data/MNIST/raw\n",
            "\n",
            "Downloading http://yann.lecun.com/exdb/mnist/t10k-images-idx3-ubyte.gz\n",
            "Failed to download (trying next):\n",
            "HTTP Error 403: Forbidden\n",
            "\n",
            "Downloading https://ossci-datasets.s3.amazonaws.com/mnist/t10k-images-idx3-ubyte.gz\n",
            "Downloading https://ossci-datasets.s3.amazonaws.com/mnist/t10k-images-idx3-ubyte.gz to /data/MNIST/raw/t10k-images-idx3-ubyte.gz\n"
          ]
        },
        {
          "output_type": "stream",
          "name": "stderr",
          "text": [
            "100%|██████████| 1648877/1648877 [00:00<00:00, 4278529.07it/s]\n"
          ]
        },
        {
          "output_type": "stream",
          "name": "stdout",
          "text": [
            "Extracting /data/MNIST/raw/t10k-images-idx3-ubyte.gz to /data/MNIST/raw\n",
            "\n",
            "Downloading http://yann.lecun.com/exdb/mnist/t10k-labels-idx1-ubyte.gz\n",
            "Failed to download (trying next):\n",
            "HTTP Error 403: Forbidden\n",
            "\n",
            "Downloading https://ossci-datasets.s3.amazonaws.com/mnist/t10k-labels-idx1-ubyte.gz\n",
            "Downloading https://ossci-datasets.s3.amazonaws.com/mnist/t10k-labels-idx1-ubyte.gz to /data/MNIST/raw/t10k-labels-idx1-ubyte.gz\n"
          ]
        },
        {
          "output_type": "stream",
          "name": "stderr",
          "text": [
            "100%|██████████| 4542/4542 [00:00<00:00, 12149571.92it/s]"
          ]
        },
        {
          "output_type": "stream",
          "name": "stdout",
          "text": [
            "Extracting /data/MNIST/raw/t10k-labels-idx1-ubyte.gz to /data/MNIST/raw\n",
            "\n"
          ]
        },
        {
          "output_type": "stream",
          "name": "stderr",
          "text": [
            "\n"
          ]
        }
      ]
    },
    {
      "cell_type": "markdown",
      "source": [
        "## Visualise the dataset"
      ],
      "metadata": {
        "id": "6MTJGL8bOjKx"
      }
    },
    {
      "cell_type": "code",
      "source": [
        "img, label = train_data[345]  #train_data -> [(img1, label1), (img2, label2) ... ]\n",
        "print('Label : {} '.format(label))\n",
        "plt.imshow(img.squeeze(), cmap='gray')\n",
        "plt.show()"
      ],
      "metadata": {
        "id": "T4cQquN_KkbS",
        "colab": {
          "base_uri": "https://localhost:8080/",
          "height": 447
        },
        "outputId": "91564c37-cc5b-4078-94b6-6c8294395313"
      },
      "execution_count": null,
      "outputs": [
        {
          "output_type": "stream",
          "name": "stdout",
          "text": [
            "Label : 1 \n"
          ]
        },
        {
          "output_type": "display_data",
          "data": {
            "text/plain": [
              "<Figure size 640x480 with 1 Axes>"
            ],
            "image/png": "[encoded data removed]"
          },
          "metadata": {}
        }
      ]
    },
    {
      "cell_type": "code",
      "source": [
        "test_data = datasets.MNIST(root='/data', train=False, download=True, transform=Transform)\n",
        "test_loader = DataLoader(test_data, batch_size=64, shuffle=True)"
      ],
      "metadata": {
        "id": "Idxe3b7B8-Vw"
      },
      "execution_count": null,
      "outputs": []
    },
    {
      "cell_type": "markdown",
      "source": [
        "## Defining our MLP model"
      ],
      "metadata": {
        "id": "SvqqbvlcOUgF"
      }
    },
    {
      "cell_type": "code",
      "source": [
        "class MultilayerPerceptron(nn.Module):\n",
        "  def __init__(self, input_size=784, output_size=10):\n",
        "    super(MultilayerPerceptron, self).__init__()\n",
        "    self.d1 = nn.Linear(input_size, 128)\n",
        "    self.d2 = nn.Linear(128, 64)\n",
        "    self.d3 = nn.Linear(64, output_size)\n",
        "    self.relu = nn.ReLU()\n",
        "    self.softmax = nn.Softmax(dim=1)\n",
        "  def forward(self, x):\n",
        "    x = x.view(x.size(0), -1) #Flattening of image, x -> [784,1]\n",
        "    x = self.relu(self.d1(x)) # x -> [128, 1]\n",
        "    x = self.relu(self.d2(x)) # x -> [64, 1]\n",
        "    x = self.d3(x)   #will get vector of size 10  # x -> [10, 1]\n",
        "    x = self.softmax(x)\n",
        "    return x"
      ],
      "metadata": {
        "id": "EBruzTJN9htH"
      },
      "execution_count": null,
      "outputs": []
    },
    {
      "cell_type": "code",
      "source": [
        "model = MultilayerPerceptron()\n",
        "print(model)"
      ],
      "metadata": {
        "colab": {
          "base_uri": "https://localhost:8080/"
        },
        "id": "IVbSeLmZ-fj7",
        "outputId": "332cd5d2-a82b-4b39-9462-aa74a60abb53"
      },
      "execution_count": null,
      "outputs": [
        {
          "output_type": "stream",
          "name": "stdout",
          "text": [
            "MultilayerPerceptron(\n",
            "  (d1): Linear(in_features=784, out_features=128, bias=True)\n",
            "  (d2): Linear(in_features=128, out_features=64, bias=True)\n",
            "  (d3): Linear(in_features=64, out_features=10, bias=True)\n",
            "  (relu): ReLU()\n",
            "  (softmax): Softmax(dim=1)\n",
            ")\n"
          ]
        }
      ]
    },
    {
      "cell_type": "markdown",
      "source": [
        "## Defining Loss and optimizer"
      ],
      "metadata": {
        "id": "62y7VNwdPFq8"
      }
    },
    {
      "cell_type": "code",
      "source": [
        "criterion = nn.CrossEntropyLoss() #Will cover in details in next class\n",
        "optimizer = torch.optim.Adam(model.parameters(), lr=0.0001)"
      ],
      "metadata": {
        "id": "fF6mVq_E-sxF"
      },
      "execution_count": null,
      "outputs": []
    },
    {
      "cell_type": "markdown",
      "source": [
        "## Training Loop"
      ],
      "metadata": {
        "id": "MXOOYnabPTfW"
      }
    },
    {
      "cell_type": "code",
      "source": [
        "\n",
        "#Defining Training Loop\n",
        "epochs = 10\n",
        "for i in range(epochs):\n",
        "  train_losses = []\n",
        "  train_correct = []\n",
        "  for images, labels in train_loader:\n",
        "    optimizer.zero_grad()\n",
        "    outputs = model(images)\n",
        "    loss = criterion(outputs, labels)\n",
        "\n",
        "    _, preds = torch.max(outputs, 1)\n",
        "    train_correct.append((preds == labels).sum().item()) #Counting number of correct predictions\n",
        "\n",
        "    loss.backward()\n",
        "    optimizer.step()\n",
        "\n",
        "  train_losses.append(loss.item())\n",
        "  train_accuracy = np.sum(train_correct)/60000\n",
        "  print(f'Epoch {i+1}/{epochs}, Train Loss: {train_losses[-1]:.4f}, Train Accuracy: {train_accuracy:.4f}')\n",
        "\n"
      ],
      "metadata": {
        "colab": {
          "base_uri": "https://localhost:8080/"
        },
        "id": "YdnEKiYj-zyS",
        "outputId": "0996c779-0aeb-47c9-b318-f7cd1a49cb5c"
      },
      "execution_count": null,
      "outputs": [
        {
          "output_type": "stream",
          "name": "stdout",
          "text": [
            "Epoch 1/10, Train Loss: 1.6348, Train Accuracy: 0.6756\n",
            "Epoch 2/10, Train Loss: 1.6154, Train Accuracy: 0.8933\n",
            "Epoch 3/10, Train Loss: 1.5852, Train Accuracy: 0.9114\n",
            "Epoch 4/10, Train Loss: 1.5882, Train Accuracy: 0.9193\n",
            "Epoch 5/10, Train Loss: 1.4861, Train Accuracy: 0.9252\n",
            "Epoch 6/10, Train Loss: 1.5860, Train Accuracy: 0.9294\n",
            "Epoch 7/10, Train Loss: 1.5991, Train Accuracy: 0.9331\n",
            "Epoch 8/10, Train Loss: 1.5257, Train Accuracy: 0.9367\n",
            "Epoch 9/10, Train Loss: 1.5537, Train Accuracy: 0.9385\n",
            "Epoch 10/10, Train Loss: 1.5170, Train Accuracy: 0.9420\n"
          ]
        }
      ]
    },
    {
      "cell_type": "markdown",
      "source": [
        "## Testing on trained model"
      ],
      "metadata": {
        "id": "9HkWDYLxPcE1"
      }
    },
    {
      "cell_type": "code",
      "source": [
        "with torch.no_grad():\n",
        "    test_losses = []\n",
        "    test_correct = []\n",
        "    for images, labels in test_loader:\n",
        "      outputs = model(images)\n",
        "      _, preds = torch.max(outputs, 1)\n",
        "      test_correct.append((preds == labels).sum().item())\n",
        "    test_accuracy = np.sum(test_correct)/10000\n",
        "\n",
        "print(f'Test Accuracy: {test_accuracy:.4f}')"
      ],
      "metadata": {
        "colab": {
          "base_uri": "https://localhost:8080/"
        },
        "id": "4vzpWsGDPaAU",
        "outputId": "59072fbf-58dc-4ca9-e1b1-8c961e392a1f"
      },
      "execution_count": null,
      "outputs": [
        {
          "output_type": "stream",
          "name": "stdout",
          "text": [
            "Test Accuracy: 0.9396\n"
          ]
        }
      ]
    },
    {
      "cell_type": "markdown",
      "source": [
        "## Inference on Data"
      ],
      "metadata": {
        "id": "GTuzfOtLI5Xl"
      }
    },
    {
      "cell_type": "code",
      "source": [
        "img, label = test_data[9]\n",
        "output = model(img.unsqueeze(0))\n",
        "_, pred = torch.max(output, 1)\n",
        "print('Label : {}    Prediction : {}'.format(label, pred.item()))\n",
        "plt.imshow(img.squeeze(), cmap='gray')\n",
        "plt.show()"
      ],
      "metadata": {
        "colab": {
          "base_uri": "https://localhost:8080/",
          "height": 447
        },
        "id": "6GU5LeOcI4US",
        "outputId": "d14e6c63-0014-4b56-d43a-79d1468c19d7"
      },
      "execution_count": null,
      "outputs": [
        {
          "output_type": "stream",
          "name": "stdout",
          "text": [
            "Label : 9    Prediction : 9\n"
          ]
        },
        {
          "output_type": "display_data",
          "data": {
            "text/plain": [
              "<Figure size 640x480 with 1 Axes>"
            ],
            "image/png": "[encoded data removed]"
          },
          "metadata": {}
        }
      ]
    }
  ]
}